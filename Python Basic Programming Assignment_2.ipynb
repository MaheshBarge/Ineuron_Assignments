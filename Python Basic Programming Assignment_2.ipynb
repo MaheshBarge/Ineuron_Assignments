{
 "cells": [
  {
   "cell_type": "markdown",
   "id": "2872ec05",
   "metadata": {},
   "source": [
    "### Programming Assignment_2"
   ]
  },
  {
   "cell_type": "markdown",
   "id": "a2820b11",
   "metadata": {},
   "source": [
    "1. Write a Python program to convert kilometers to miles?"
   ]
  },
  {
   "cell_type": "code",
   "execution_count": 33,
   "id": "c6df90f3",
   "metadata": {},
   "outputs": [
    {
     "name": "stdout",
     "output_type": "stream",
     "text": [
      "5KM is equal to:  3.11 Miles\n"
     ]
    }
   ],
   "source": [
    "def miles(km):\n",
    "    print (\"{0}KM is equal to: \".format(km), round(km*0.62137,2),\"Miles\") \n",
    "    \n",
    "miles(5)\n",
    "    "
   ]
  },
  {
   "cell_type": "markdown",
   "id": "2484a131",
   "metadata": {},
   "source": [
    "2. Write a Python program to convert Celsius to Fahrenheit?"
   ]
  },
  {
   "cell_type": "code",
   "execution_count": 38,
   "id": "89a8662a",
   "metadata": {},
   "outputs": [
    {
     "name": "stdout",
     "output_type": "stream",
     "text": [
      "5 Celsius is equal to:  41.0 Fahrenheit\n"
     ]
    }
   ],
   "source": [
    "def fahrenheit(celsius):\n",
    "    print (\"{0} Celsius is equal to: \".format(celsius), round(celsius*(9/5)+32,2),\"Fahrenheit\") \n",
    "    \n",
    "fahrenheit(5)"
   ]
  },
  {
   "cell_type": "markdown",
   "id": "76eb7372",
   "metadata": {},
   "source": [
    "3. Write a Python program to display calendar?"
   ]
  },
  {
   "cell_type": "code",
   "execution_count": 1,
   "id": "7277519a",
   "metadata": {},
   "outputs": [
    {
     "name": "stdout",
     "output_type": "stream",
     "text": [
      "Please enter year and month: 2021 3\n",
      "     March 2021\n",
      "Mo Tu We Th Fr Sa Su\n",
      " 1  2  3  4  5  6  7\n",
      " 8  9 10 11 12 13 14\n",
      "15 16 17 18 19 20 21\n",
      "22 23 24 25 26 27 28\n",
      "29 30 31\n",
      "\n"
     ]
    }
   ],
   "source": [
    "import calendar\n",
    "\n",
    "yy,mm = input(\"Please enter year and month: \").split()\n",
    "print (calendar.month(int(yy),int(mm)))"
   ]
  },
  {
   "cell_type": "code",
   "execution_count": 24,
   "id": "766fbf49",
   "metadata": {},
   "outputs": [
    {
     "name": "stdout",
     "output_type": "stream",
     "text": [
      "Roots of equation are: (-0.5857864376269049+0j) (-3.414213562373095+0j)\n"
     ]
    }
   ],
   "source": [
    "import cmath\n",
    "def quad(a,b,c):\n",
    "    d = b**2-4*a*c\n",
    "    x  = (-b + cmath.sqrt(d))/(2*a)\n",
    "    y  = (-b - cmath.sqrt(d))/(2*a)\n",
    "    print (\"Roots of equation are:\",x,y)\n",
    "\n",
    "quad(1,4,2)"
   ]
  },
  {
   "cell_type": "markdown",
   "id": "e35c5c91",
   "metadata": {},
   "source": [
    "5. Write a Python program to swap two variables without temp variable?"
   ]
  },
  {
   "cell_type": "code",
   "execution_count": 29,
   "id": "015c390f",
   "metadata": {},
   "outputs": [
    {
     "name": "stdout",
     "output_type": "stream",
     "text": [
      "6\n"
     ]
    }
   ],
   "source": [
    "a = 4\n",
    "b = 6\n",
    "\n",
    "a = a-b \n",
    "b = a+b \n",
    "a = b-a \n",
    "print (a,b)"
   ]
  },
  {
   "cell_type": "code",
   "execution_count": null,
   "id": "3775ae39",
   "metadata": {},
   "outputs": [],
   "source": []
  }
 ],
 "metadata": {
  "kernelspec": {
   "display_name": "Python 3",
   "language": "python",
   "name": "python3"
  },
  "language_info": {
   "codemirror_mode": {
    "name": "ipython",
    "version": 3
   },
   "file_extension": ".py",
   "mimetype": "text/x-python",
   "name": "python",
   "nbconvert_exporter": "python",
   "pygments_lexer": "ipython3",
   "version": "3.8.8"
  }
 },
 "nbformat": 4,
 "nbformat_minor": 5
}
