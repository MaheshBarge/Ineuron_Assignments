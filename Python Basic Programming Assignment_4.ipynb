{
 "cells": [
  {
   "cell_type": "markdown",
   "id": "c0c869bc",
   "metadata": {},
   "source": [
    "### Python Basic Programming Assignment_4\n"
   ]
  },
  {
   "cell_type": "markdown",
   "id": "243e6543",
   "metadata": {},
   "source": [
    "1. Write a Python Program to Find the Factorial of a Number?"
   ]
  },
  {
   "cell_type": "code",
   "execution_count": 6,
   "id": "d4e481c8",
   "metadata": {},
   "outputs": [
    {
     "name": "stdout",
     "output_type": "stream",
     "text": [
      "5\n",
      "Factorial of number 5 is 120\n"
     ]
    }
   ],
   "source": [
    "n = int(input())\n",
    "a = n\n",
    "for i in range(a,0,-1):\n",
    "    if i==a:\n",
    "        continue\n",
    "    else:\n",
    "        \n",
    "        a = a*i\n",
    "print(\"Factorial of number {} is {}\".format(n,a))"
   ]
  },
  {
   "cell_type": "markdown",
   "id": "6ea265fa",
   "metadata": {},
   "source": [
    "2. Write a Python Program to Display the multiplication Table?"
   ]
  },
  {
   "cell_type": "code",
   "execution_count": 7,
   "id": "c2045f3c",
   "metadata": {},
   "outputs": [
    {
     "name": "stdout",
     "output_type": "stream",
     "text": [
      "Enter number to display multiplication table:10\n",
      "10\n",
      "20\n",
      "30\n",
      "40\n",
      "50\n",
      "60\n",
      "70\n",
      "80\n",
      "90\n",
      "100\n"
     ]
    }
   ],
   "source": [
    "n = int(input(\"Enter number to display multiplication table:\"))\n",
    "\n",
    "for i in range(n,1+n*10,n):\n",
    "    print(i)"
   ]
  },
  {
   "cell_type": "markdown",
   "id": "dc2ee781",
   "metadata": {},
   "source": [
    "3. Write a Python Program to Print the Fibonacci sequence?"
   ]
  },
  {
   "cell_type": "code",
   "execution_count": 8,
   "id": "06731cf1",
   "metadata": {},
   "outputs": [
    {
     "name": "stdout",
     "output_type": "stream",
     "text": [
      "Enter Number: 13\n",
      "Fibonacci series of number 13 is [0, 1, 1, 2, 3, 5, 8, 13, 21, 34, 55, 89, 144]\n"
     ]
    }
   ],
   "source": [
    "n = int(input(\"Enter Number: \"))\n",
    "a = []\n",
    "b = 1\n",
    "for i in range(0,n):\n",
    "    if i==0:\n",
    "        a.append(0)\n",
    "    else:\n",
    "        i = i-1\n",
    "        a.append(a[i]+b)\n",
    "        b = a[i]\n",
    "print(\"Fibonacci series of number {} is\".format(n),a)"
   ]
  },
  {
   "cell_type": "markdown",
   "id": "d3adc641",
   "metadata": {},
   "source": [
    "4. Write a Python Program to Check Armstrong Number?"
   ]
  },
  {
   "cell_type": "code",
   "execution_count": 9,
   "id": "7619214e",
   "metadata": {},
   "outputs": [
    {
     "name": "stdout",
     "output_type": "stream",
     "text": [
      "153\n",
      "153 is Armstrong Number\n"
     ]
    }
   ],
   "source": [
    "a = input()\n",
    "b = 0\n",
    "for i in a:\n",
    "    b = int(i)**3+b\n",
    "if int(a)==b:\n",
    "    print(\"{} is Armstrong Number\".format(a))"
   ]
  },
  {
   "cell_type": "markdown",
   "id": "c9192a50",
   "metadata": {},
   "source": [
    "5. Write a Python Program to Find Armstrong Number in an Interval?"
   ]
  },
  {
   "cell_type": "code",
   "execution_count": 10,
   "id": "9b3449a1",
   "metadata": {},
   "outputs": [
    {
     "name": "stdout",
     "output_type": "stream",
     "text": [
      "Enter interval range:0 1000\n",
      "0 is Armstrong Number\n",
      "1 is Armstrong Number\n",
      "153 is Armstrong Number\n",
      "370 is Armstrong Number\n",
      "371 is Armstrong Number\n",
      "407 is Armstrong Number\n"
     ]
    }
   ],
   "source": [
    "a,b = input(\"Enter interval range:\").split()\n",
    "\n",
    "for i in range(int(a),int(b)):\n",
    "    c = 0\n",
    "    for j in str(i):\n",
    "        c = int(j)**3+c\n",
    "    if i==c:\n",
    "        print(\"{} is Armstrong Number\".format(i))"
   ]
  },
  {
   "cell_type": "markdown",
   "id": "9956454c",
   "metadata": {},
   "source": [
    "6. Write a Python Program to Find the Sum of Natural Numbers?"
   ]
  },
  {
   "cell_type": "code",
   "execution_count": 11,
   "id": "5fdea565",
   "metadata": {},
   "outputs": [
    {
     "name": "stdout",
     "output_type": "stream",
     "text": [
      "Enter Natural Number: 16\n",
      "Sum of natural number 16 is: 136.0\n"
     ]
    }
   ],
   "source": [
    "n = int(input(\"Enter Natural Number: \"))\n",
    "if n<0:\n",
    "    print(\"Number is not natural number\")\n",
    "else:\n",
    "    sum = n*(n+1)/2\n",
    "    print(\"Sum of natural number {0} is:\".format(n),sum)"
   ]
  },
  {
   "cell_type": "code",
   "execution_count": null,
   "id": "16dfb1ec",
   "metadata": {},
   "outputs": [],
   "source": []
  }
 ],
 "metadata": {
  "kernelspec": {
   "display_name": "Python 3",
   "language": "python",
   "name": "python3"
  },
  "language_info": {
   "codemirror_mode": {
    "name": "ipython",
    "version": 3
   },
   "file_extension": ".py",
   "mimetype": "text/x-python",
   "name": "python",
   "nbconvert_exporter": "python",
   "pygments_lexer": "ipython3",
   "version": "3.8.8"
  }
 },
 "nbformat": 4,
 "nbformat_minor": 5
}
